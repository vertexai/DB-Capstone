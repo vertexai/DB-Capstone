{
 "cells": [
  {
   "cell_type": "code",
   "execution_count": 10,
   "id": "83dd2126",
   "metadata": {},
   "outputs": [
    {
     "name": "stdout",
     "output_type": "stream",
     "text": [
      "\u001b[33mWARNING: Ignoring invalid distribution -pp (/Users/thienle/.pyenv/versions/3.7.13/lib/python3.7/site-packages)\u001b[0m\u001b[33m\n",
      "\u001b[0m\u001b[33mWARNING: Ignoring invalid distribution -ipp (/Users/thienle/.pyenv/versions/3.7.13/lib/python3.7/site-packages)\u001b[0m\u001b[33m\n",
      "\u001b[0m\u001b[33mWARNING: Ignoring invalid distribution - (/Users/thienle/.pyenv/versions/3.7.13/lib/python3.7/site-packages)\u001b[0m\u001b[33m\n",
      "\u001b[0m\u001b[33mWARNING: Ignoring invalid distribution -pp (/Users/thienle/.pyenv/versions/3.7.13/lib/python3.7/site-packages)\u001b[0m\u001b[33m\n",
      "\u001b[0m\u001b[33mWARNING: Ignoring invalid distribution -ipp (/Users/thienle/.pyenv/versions/3.7.13/lib/python3.7/site-packages)\u001b[0m\u001b[33m\n",
      "\u001b[0m\u001b[33mWARNING: Ignoring invalid distribution - (/Users/thienle/.pyenv/versions/3.7.13/lib/python3.7/site-packages)\u001b[0m\u001b[33m\n",
      "\u001b[0mRequirement already satisfied: mysql-connector-python in /Users/thienle/.local/lib/python3.7/site-packages (8.0.32)\n",
      "Requirement already satisfied: protobuf<=3.20.3,>=3.11.0 in /Users/thienle/.local/lib/python3.7/site-packages (from mysql-connector-python) (3.20.3)\n",
      "\u001b[33mWARNING: Ignoring invalid distribution -pp (/Users/thienle/.pyenv/versions/3.7.13/lib/python3.7/site-packages)\u001b[0m\u001b[33m\n",
      "\u001b[0m\u001b[33mWARNING: Ignoring invalid distribution -ipp (/Users/thienle/.pyenv/versions/3.7.13/lib/python3.7/site-packages)\u001b[0m\u001b[33m\n",
      "\u001b[0m\u001b[33mWARNING: Ignoring invalid distribution - (/Users/thienle/.pyenv/versions/3.7.13/lib/python3.7/site-packages)\u001b[0m\u001b[33m\n",
      "\u001b[0m\u001b[33mWARNING: Ignoring invalid distribution -pp (/Users/thienle/.pyenv/versions/3.7.13/lib/python3.7/site-packages)\u001b[0m\u001b[33m\n",
      "\u001b[0m\u001b[33mWARNING: Ignoring invalid distribution -ipp (/Users/thienle/.pyenv/versions/3.7.13/lib/python3.7/site-packages)\u001b[0m\u001b[33m\n",
      "\u001b[0m\u001b[33mWARNING: Ignoring invalid distribution - (/Users/thienle/.pyenv/versions/3.7.13/lib/python3.7/site-packages)\u001b[0m\u001b[33m\n",
      "\u001b[0m\u001b[33mWARNING: Ignoring invalid distribution -pp (/Users/thienle/.pyenv/versions/3.7.13/lib/python3.7/site-packages)\u001b[0m\u001b[33m\n",
      "\u001b[0m\u001b[33mWARNING: Ignoring invalid distribution -ipp (/Users/thienle/.pyenv/versions/3.7.13/lib/python3.7/site-packages)\u001b[0m\u001b[33m\n",
      "\u001b[0m\u001b[33mWARNING: Ignoring invalid distribution - (/Users/thienle/.pyenv/versions/3.7.13/lib/python3.7/site-packages)\u001b[0m\u001b[33m\n",
      "\u001b[0m\u001b[33mWARNING: Ignoring invalid distribution -pp (/Users/thienle/.pyenv/versions/3.7.13/lib/python3.7/site-packages)\u001b[0m\u001b[33m\n",
      "\u001b[0m\u001b[33mWARNING: Ignoring invalid distribution -ipp (/Users/thienle/.pyenv/versions/3.7.13/lib/python3.7/site-packages)\u001b[0m\u001b[33m\n",
      "\u001b[0m\u001b[33mWARNING: Ignoring invalid distribution - (/Users/thienle/.pyenv/versions/3.7.13/lib/python3.7/site-packages)\u001b[0m\u001b[33m\n",
      "\u001b[0m\n",
      "\u001b[1m[\u001b[0m\u001b[34;49mnotice\u001b[0m\u001b[1;39;49m]\u001b[0m\u001b[39;49m A new release of pip available: \u001b[0m\u001b[31;49m22.3.1\u001b[0m\u001b[39;49m -> \u001b[0m\u001b[32;49m23.0.1\u001b[0m\n",
      "\u001b[1m[\u001b[0m\u001b[34;49mnotice\u001b[0m\u001b[1;39;49m]\u001b[0m\u001b[39;49m To update, run: \u001b[0m\u001b[32;49mpip install --upgrade pip\u001b[0m\n",
      "Connection between MySQL and Python is established.\n",
      "\n"
     ]
    }
   ],
   "source": [
    "#install connector api using the command below.\n",
    "!pip install mysql-connector-python\n",
    "\n",
    "# Import the MySQL Connector/Python\n",
    "import mysql.connector as connector\n",
    "\n",
    "# Establish connection between Python and MySQL database via connector API\n",
    "connection=connector.connect(\n",
    "                             user=\"root\", # use your own\n",
    "                             password=\"Password123\", # use your own\n",
    "                             db=\"LittleLemonDB\"\n",
    "                            )\n",
    "print(\"Connection between MySQL and Python is established.\\n\")"
   ]
  },
  {
   "cell_type": "code",
   "execution_count": 11,
   "id": "ceb4ed61",
   "metadata": {},
   "outputs": [
    {
     "name": "stdout",
     "output_type": "stream",
     "text": [
      "Cursor is created to communicate with the MySQL using Python.\n",
      "\n"
     ]
    }
   ],
   "source": [
    "# Create cursor object to communicate with entire MySQL database\n",
    "cursor = connection.cursor()\n",
    "print(\"Cursor is created to communicate with the MySQL using Python.\\n\")"
   ]
  },
  {
   "cell_type": "code",
   "execution_count": 12,
   "id": "a7cdf524",
   "metadata": {},
   "outputs": [
    {
     "name": "stdout",
     "output_type": "stream",
     "text": [
      "[('Booking',), ('Customer',), ('DeliveryStatus',), ('Menu',), ('Order',), ('Order_Menu',), ('ordersview',), ('Staff',)]\n"
     ]
    }
   ],
   "source": [
    "# Task 2\n",
    "show_tables_query = \"SHOW tables\" \n",
    "results = cursor.execute(show_tables_query)\n",
    "results = cursor.fetchall()\n",
    "print(results)"
   ]
  },
  {
   "cell_type": "code",
   "execution_count": 17,
   "id": "0bea42ec",
   "metadata": {},
   "outputs": [
    {
     "name": "stdout",
     "output_type": "stream",
     "text": [
      "('CustomerID', 'Name', 'OrderID', 'Cost', 'MenuName')\n",
      "(1, 'Alixia', 2, Decimal('200.00'), 'Courses')\n",
      "(5, 'Max', 3, Decimal('240.00'), 'Courses')\n",
      "(3, 'David', 4, Decimal('1200.00'), 'Cuisines')\n"
     ]
    }
   ],
   "source": [
    "# Task 3\n",
    "query_str = \"\"\"\n",
    "Use LittleLemonDB;\n",
    "SELECT c.CustomerID, c.Name, o.OrderID, o.TotalCost as Cost, m.Name as MenuName\n",
    "FROM Customer as c JOIN Booking as b ON c.CustomerID = b.Customer_CustomerID\n",
    "JOIN LittleLemonDB.Order as o On o.Booking_BookingID = b.BookingID\n",
    "JOIN Order_Menu as om ON om.Order_OrderID = o.OrderID\n",
    "JOIN Menu as m On m.MenuID = om.Menu_MenuID\n",
    "WHERE o.TotalCost > 60\n",
    "ORDER BY o.TotalCost ASC;\n",
    "\"\"\"\n",
    "\n",
    "cursor.execute(query_str)\n",
    "results = cursor.fetchall()\n",
    "\n",
    "# Printing results\n",
    "print(cursor.column_names)\n",
    "for row in results:\n",
    "    print(row)"
   ]
  },
  {
   "cell_type": "code",
   "execution_count": null,
   "id": "d88979b9",
   "metadata": {},
   "outputs": [],
   "source": []
  }
 ],
 "metadata": {
  "kernelspec": {
   "display_name": "Python 3 (ipykernel)",
   "language": "python",
   "name": "python3"
  },
  "language_info": {
   "codemirror_mode": {
    "name": "ipython",
    "version": 3
   },
   "file_extension": ".py",
   "mimetype": "text/x-python",
   "name": "python",
   "nbconvert_exporter": "python",
   "pygments_lexer": "ipython3",
   "version": "3.7.13"
  }
 },
 "nbformat": 4,
 "nbformat_minor": 5
}
